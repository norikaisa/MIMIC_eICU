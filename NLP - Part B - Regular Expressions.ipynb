{
  "nbformat": 4,
  "nbformat_minor": 0,
  "metadata": {
    "colab": {
      "name": "Copy of Regular expressions tutorial .ipynb",
      "version": "0.3.2",
      "provenance": [],
      "collapsed_sections": [],
      "include_colab_link": true
    },
    "kernelspec": {
      "name": "python3",
      "display_name": "Python 3"
    }
  },
  "cells": [
    {
      "cell_type": "markdown",
      "metadata": {
        "id": "view-in-github",
        "colab_type": "text"
      },
      "source": [
        "[View in Colaboratory](https://colab.research.google.com/github/norikaisa/MIMIC_eICU/blob/master/NLP%20-%20Part%20B%20-%20Regular%20Expressions.ipynb)"
      ]
    },
    {
      "metadata": {
        "id": "-sfcA9tSUNeu",
        "colab_type": "text"
      },
      "cell_type": "markdown",
      "source": [
        "# Part B: Fun With Regular Expressions!!\n",
        "\n",
        "In this section, we will learn what a regular expression is and use our new learn skills to get information from notes in MIMIC.\n",
        "\n",
        "**What is a Regular Expression:**\n",
        "* A regular expression (RegEx) is a sophisticated search command, it makes use of patterns\n",
        "* This can be implemented in many different languages. The specific syntax used in each language may vary, but the concepts are the same!\n",
        "\n",
        "Please refer to this for some basic regular expression definitions: \n",
        "http://web.mit.edu/hackl/www/lab/turkshop/slides/regex-cheatsheet.pdf\n"
      ]
    },
    {
      "metadata": {
        "id": "21rcOnS1Se_9",
        "colab_type": "text"
      },
      "cell_type": "markdown",
      "source": [
        "### B.0 Fancy Pattern Matching\n",
        "To visualize how regular expressions work, we will use the following website: \n",
        "https://regex101.com/ \n",
        "\n",
        "Please go to this website in another browser.\n",
        "<br><br><br>\n",
        "\n",
        "You will see a window like this.\n",
        "<img src=\"https://raw.githubusercontent.com/christinium/JapanRegEx/316caa5e0f10011b5483c299ec417ed78bf563b0/images/regex101_demo.png\" alt=\"Demo\" style=\"width:700px;\"/>\n",
        "\n",
        "<br><br>\n",
        "### Example 1:\n",
        "1) In the **Test String**  box, please paste the following:\n",
        "\n",
        "```\n",
        "Lisinopril 40 MG PO Daily\n",
        "LISINOPRIL 20 MG PO DAILY\n",
        "lisinoprl 10 mg PO Daily\n",
        "The patient is allergic to lisinopril.\n",
        "April showers bring may flowers.\n",
        "metoprolol XL 100 mg PO Daily\n",
        "```\n",
        "\n",
        "2) In the **Regular Expression** box, please try out each one of these patterns and observe the difference in items that are highlighted.\n",
        "\n",
        "Pattern | Meaning\n",
        "--------|--------\n",
        ". |\tA period catches all characters (each one is a different color)\n",
        "pril |\tthis only catches the phrase pril\n",
        ".\\*pril |\tthis catches 0 or more characters before pril\n",
        "[a-z] |\tthis catches all alphabetical characters\n",
        "[abcdefghijklmnopqrstuvwxyz] | this also catches all alphabetical characters\n",
        "[abcde]|this catches just a, b, c, d, or e\n",
        "[a-z]\\*pril |\tthis catches 0 or more characters, <br> lower case, but does not match spaces or numbers etc\n",
        "[aA-zZ]+pril| this catches words with one or more character prior to ending in pril\n",
        "[aA-zZ]{2,} | pril\tthis catches words with 2 or more characters prir to ending in pril\n",
        "lisinopril&#124;losartan |\tthis catches lisinopril or losartan\n",
        "\\d\t| this catches numerical digits\n",
        "\\d{2} |\tthis catches two numberical digits\n",
        "\n",
        "<br><br>\n"
      ]
    },
    {
      "metadata": {
        "id": "mubH_GJBVHdo",
        "colab_type": "text"
      },
      "cell_type": "markdown",
      "source": [
        "### Exercise 1: \n",
        "1) In the Test String box, please paste the following:\n",
        "```\n",
        "Metoprolol 10 mg PO daily\n",
        "Omeprazole 10 mg PO BID\n",
        "Lasix 10 mg PO BID\n",
        "Carvedilol 3.125 mg PO BID\n",
        "Amlodipine 10 mg PO Daily\n",
        "Labetalol 100 mg PO TID\n",
        "```\n",
        "\n",
        "2) What would you type in the **Regular Expression** box to find:<br>\n",
        "a) How do you write an expression to just pull out the betablockers, a type of medication that can decrease the heart rate and blood pressure (they end in lol)<br>\n",
        "b) You want to help someone figure out drugs that need to be dosed twice daily (or BID) for dosing purposes. How do you print out only lines that or twice a day (BID)?  \n",
        "c) How do you print lines that are more than once a day (including both BID and TID, which is three times daily)?\n",
        "\n",
        "_\\*\\*Answers on the Bottom_\n"
      ]
    },
    {
      "metadata": {
        "id": "kgGFVdVtZT7-",
        "colab_type": "text"
      },
      "cell_type": "markdown",
      "source": [
        "## B.1 Regular Expressions using MIMIC Clinical Notes!\n",
        "In this section, we will use a python (yay!) notebook to use use regular expressions on real clinical notes from MIMIC-III.  There are over 2 million (!) free text notes in here, so there is a ton of data to be used!<br><br>\n",
        "We will now go through each python code block.<br>\n",
        "To run a block select it and press **shift** + **enter**\n"
      ]
    },
    {
      "metadata": {
        "id": "CybKUGa8y-IE",
        "colab_type": "text"
      },
      "cell_type": "markdown",
      "source": [
        "**Import Libraries**:\n",
        "The cell below imports the necessaary libraries so that our python notebook can talk to the MIMIC database using Google's bigquery library and pull the notes from the database."
      ]
    },
    {
      "metadata": {
        "id": "IR0nQQOxULq9",
        "colab_type": "code",
        "colab": {}
      },
      "cell_type": "code",
      "source": [
        "import os\n",
        "import pandas as pd\n",
        "\n",
        "from google.colab import auth\n",
        "from google.cloud import bigquery\n",
        "from google.colab import files"
      ],
      "execution_count": 0,
      "outputs": []
    },
    {
      "metadata": {
        "id": "LpazuyM0UkJY",
        "colab_type": "text"
      },
      "cell_type": "markdown",
      "source": [
        "**Authenticate:** The line of code below ensures you are an authenticated user accessing the MIMIC database. You will need to rerun this each time you open the notebook."
      ]
    },
    {
      "metadata": {
        "id": "woVFB6X7J0cn",
        "colab_type": "code",
        "colab": {}
      },
      "cell_type": "code",
      "source": [
        "auth.authenticate_user() #This will allow you to authenticate access to BigQuery"
      ],
      "execution_count": 0,
      "outputs": []
    },
    {
      "metadata": {
        "id": "tp3E1gCKUxA2",
        "colab_type": "text"
      },
      "cell_type": "markdown",
      "source": [
        "**Query Function:** This is a method that executes a desired SQL query on the database.  If you want to run a query, you can use the function name below, which we named  *run_query()*"
      ]
    },
    {
      "metadata": {
        "id": "fyWuYHqMIjxE",
        "colab_type": "code",
        "colab": {}
      },
      "cell_type": "code",
      "source": [
        "project_id='hst-953-2018'\n",
        "os.environ[\"GOOGLE_CLOUD_PROJECT\"]=project_id\n",
        "# Read data from BigQuery into pandas dataframes.\n",
        "def run_query(query):\n",
        "  return pd.io.gbq.read_gbq(query, project_id=project_id, verbose=False, configuration={'query':{'useLegacySql': False}})"
      ],
      "execution_count": 0,
      "outputs": []
    },
    {
      "metadata": {
        "id": "NGDh5BToVSbp",
        "colab_type": "text"
      },
      "cell_type": "markdown",
      "source": [
        "**Actual Query:** This is the actual SQL query. Notes are contained in the NOTEEVENTS table. This table has ###  ?elements/columns (\\*fill in columns).  The column with the actual text of the report is  the TEXT column. Here, we extracting  the TEXT column from the first ten rows of the NOTEEVENTS table.  <br><br>\n",
        "\n",
        "(* Side note, if you want to run this in bigquery, you can also go to https://bigquery.cloud.google.com, click \"Try the new UI\" on the top right, and paste the text between the quotes into the \"Query Editor\" )"
      ]
    },
    {
      "metadata": {
        "id": "R5y8n88sI2IQ",
        "colab_type": "code",
        "colab": {
          "base_uri": "https://localhost:8080/",
          "height": 137
        },
        "outputId": "100b822e-81e9-4fac-c8a4-b3a38d10c52d"
      },
      "cell_type": "code",
      "source": [
        "first_ten_echo_reports = run_query('''\n",
        "SELECT row_id, subject_id, hadm_id, TEXT\n",
        "FROM `physionet-data.mimiciii_notes.noteevents`\n",
        "WHERE CATEGORY = 'Echo'\n",
        "LIMIT 10\n",
        "''')\n"
      ],
      "execution_count": 3,
      "outputs": [
        {
          "output_type": "stream",
          "text": [
            "Please visit this URL to authorize this application: https://accounts.google.com/o/oauth2/auth?response_type=code&client_id=495642085510-k0tmvj2m941jhre2nbqka17vqpjfddtd.apps.googleusercontent.com&redirect_uri=urn%3Aietf%3Awg%3Aoauth%3A2.0%3Aoob&scope=https%3A%2F%2Fwww.googleapis.com%2Fauth%2Fbigquery&state=tI513HcofbWXiaC69V5PgYSKnswXvs&prompt=consent&access_type=offline\n",
            "Enter the authorization code: 4/dgDWJuifI3EmSj4po7KxS_sUUHj9Wenx_hvz3sy5Y4DB85Q5jptB5_4\n"
          ],
          "name": "stdout"
        }
      ]
    },
    {
      "metadata": {
        "id": "EIck0_f3VvYY",
        "colab_type": "text"
      },
      "cell_type": "markdown",
      "source": [
        "Let us examine the result of our query."
      ]
    },
    {
      "metadata": {
        "id": "0neinsdwI-FQ",
        "colab_type": "code",
        "colab": {
          "base_uri": "https://localhost:8080/",
          "height": 359
        },
        "outputId": "544f3b6c-e424-4f7c-a323-ec1d81236ea2"
      },
      "cell_type": "code",
      "source": [
        "#This prints the first ten (or only 10 in this case) rows\n",
        "#If we wanted to print out all of the rows, we can also use:\n",
        "# print(first_ten_echo_reports)\n",
        "# (You can try it in another code block if you want)\n",
        "first_ten_echo_reports.head(10) "
      ],
      "execution_count": 4,
      "outputs": [
        {
          "output_type": "execute_result",
          "data": {
            "text/html": [
              "<div>\n",
              "<style scoped>\n",
              "    .dataframe tbody tr th:only-of-type {\n",
              "        vertical-align: middle;\n",
              "    }\n",
              "\n",
              "    .dataframe tbody tr th {\n",
              "        vertical-align: top;\n",
              "    }\n",
              "\n",
              "    .dataframe thead th {\n",
              "        text-align: right;\n",
              "    }\n",
              "</style>\n",
              "<table border=\"1\" class=\"dataframe\">\n",
              "  <thead>\n",
              "    <tr style=\"text-align: right;\">\n",
              "      <th></th>\n",
              "      <th>row_id</th>\n",
              "      <th>subject_id</th>\n",
              "      <th>hadm_id</th>\n",
              "      <th>TEXT</th>\n",
              "    </tr>\n",
              "  </thead>\n",
              "  <tbody>\n",
              "    <tr>\n",
              "      <th>0</th>\n",
              "      <td>60303</td>\n",
              "      <td>2002</td>\n",
              "      <td>None</td>\n",
              "      <td>PATIENT/TEST INFORMATION:\\nIndication: Pre icd...</td>\n",
              "    </tr>\n",
              "    <tr>\n",
              "      <th>1</th>\n",
              "      <td>63440</td>\n",
              "      <td>86279</td>\n",
              "      <td>None</td>\n",
              "      <td>PATIENT/TEST INFORMATION:\\nIndication: S/p AVR...</td>\n",
              "    </tr>\n",
              "    <tr>\n",
              "      <th>2</th>\n",
              "      <td>65248</td>\n",
              "      <td>23829</td>\n",
              "      <td>None</td>\n",
              "      <td>PATIENT/TEST INFORMATION:\\nIndication: Hyperte...</td>\n",
              "    </tr>\n",
              "    <tr>\n",
              "      <th>3</th>\n",
              "      <td>67225</td>\n",
              "      <td>27100</td>\n",
              "      <td>166427</td>\n",
              "      <td>PATIENT/TEST INFORMATION:\\nIndication: CVA , ?...</td>\n",
              "    </tr>\n",
              "    <tr>\n",
              "      <th>4</th>\n",
              "      <td>63804</td>\n",
              "      <td>60762</td>\n",
              "      <td>122926</td>\n",
              "      <td>PATIENT/TEST INFORMATION:\\nIndication: Left ve...</td>\n",
              "    </tr>\n",
              "    <tr>\n",
              "      <th>5</th>\n",
              "      <td>64938</td>\n",
              "      <td>17125</td>\n",
              "      <td>176175</td>\n",
              "      <td>PATIENT/TEST INFORMATION:\\nIndication: Left ve...</td>\n",
              "    </tr>\n",
              "    <tr>\n",
              "      <th>6</th>\n",
              "      <td>64000</td>\n",
              "      <td>16518</td>\n",
              "      <td>134471</td>\n",
              "      <td>PATIENT/TEST INFORMATION:\\nIndication: Endocar...</td>\n",
              "    </tr>\n",
              "    <tr>\n",
              "      <th>7</th>\n",
              "      <td>59886</td>\n",
              "      <td>2730</td>\n",
              "      <td>149875</td>\n",
              "      <td>PATIENT/TEST INFORMATION:\\nIndication: Left ve...</td>\n",
              "    </tr>\n",
              "    <tr>\n",
              "      <th>8</th>\n",
              "      <td>60148</td>\n",
              "      <td>5544</td>\n",
              "      <td>102033</td>\n",
              "      <td>PATIENT/TEST INFORMATION:\\nIndication: Coronar...</td>\n",
              "    </tr>\n",
              "    <tr>\n",
              "      <th>9</th>\n",
              "      <td>60794</td>\n",
              "      <td>10832</td>\n",
              "      <td>187094</td>\n",
              "      <td>PATIENT/TEST INFORMATION:\\nIndication: Congest...</td>\n",
              "    </tr>\n",
              "  </tbody>\n",
              "</table>\n",
              "</div>"
            ],
            "text/plain": [
              "   row_id  subject_id hadm_id  \\\n",
              "0   60303        2002    None   \n",
              "1   63440       86279    None   \n",
              "2   65248       23829    None   \n",
              "3   67225       27100  166427   \n",
              "4   63804       60762  122926   \n",
              "5   64938       17125  176175   \n",
              "6   64000       16518  134471   \n",
              "7   59886        2730  149875   \n",
              "8   60148        5544  102033   \n",
              "9   60794       10832  187094   \n",
              "\n",
              "                                                TEXT  \n",
              "0  PATIENT/TEST INFORMATION:\\nIndication: Pre icd...  \n",
              "1  PATIENT/TEST INFORMATION:\\nIndication: S/p AVR...  \n",
              "2  PATIENT/TEST INFORMATION:\\nIndication: Hyperte...  \n",
              "3  PATIENT/TEST INFORMATION:\\nIndication: CVA , ?...  \n",
              "4  PATIENT/TEST INFORMATION:\\nIndication: Left ve...  \n",
              "5  PATIENT/TEST INFORMATION:\\nIndication: Left ve...  \n",
              "6  PATIENT/TEST INFORMATION:\\nIndication: Endocar...  \n",
              "7  PATIENT/TEST INFORMATION:\\nIndication: Left ve...  \n",
              "8  PATIENT/TEST INFORMATION:\\nIndication: Coronar...  \n",
              "9  PATIENT/TEST INFORMATION:\\nIndication: Congest...  "
            ]
          },
          "metadata": {
            "tags": []
          },
          "execution_count": 4
        }
      ]
    },
    {
      "metadata": {
        "id": "R_fUQZkwVzL4",
        "colab_type": "text"
      },
      "cell_type": "markdown",
      "source": [
        "Let us dig deeper and view the full content of the first report"
      ]
    },
    {
      "metadata": {
        "id": "TqaXivbLKPa_",
        "colab_type": "code",
        "colab": {
          "base_uri": "https://localhost:8080/",
          "height": 1057
        },
        "outputId": "c8555b8d-8e10-4434-b6f5-10e4c30a3ca7"
      },
      "cell_type": "code",
      "source": [
        "report = first_ten_echo_reports[\"TEXT\"][0] \n",
        "print(report)\n",
        "#Arrays start numbering at 0.  If you want to print out the second row, you can type:\n",
        "#report = first_ten_echo_reports[\"TEXT\"][1] \n",
        "#Don't forget to rerun the block after you make changes!"
      ],
      "execution_count": 5,
      "outputs": [
        {
          "output_type": "stream",
          "text": [
            "PATIENT/TEST INFORMATION:\n",
            "Indication: Pre icd assessment, Congestive heart failure., Pre - Procedure needs Tdi/ Dysnchrony measures\n",
            "Height: (in) 75\n",
            "Weight (lb): 280\n",
            "BSA (m2): 2.53 m2\n",
            "BP (mm Hg): 120/80\n",
            "HR (bpm): 90\n",
            "Status: Inpatient\n",
            "Date/Time: [**2121-1-23**] at 11:00\n",
            "Test: Portable TTE (Focused views)\n",
            "Doppler: Limited Doppler and color Doppler\n",
            "Contrast: None\n",
            "Technical Quality: Suboptimal\n",
            "\n",
            "\n",
            "INTERPRETATION:\n",
            "\n",
            "Findings:\n",
            "\n",
            "LEFT ATRIUM: Moderate LA enlargement.\n",
            "\n",
            "LEFT VENTRICLE: Mild symmetric LVH. Moderately dilated LV cavity. Severely\n",
            "depressed LVEF. No resting LVOT gradient. No VSD. TSI demonstrates significant\n",
            "LV dyssynchrony with significant lateral wall contraction delay (vs. septum).\n",
            "\n",
            "RIGHT VENTRICLE: RV not well seen.\n",
            "\n",
            "AORTA: Moderately dilated aortic sinus. Focal calcifications in aortic root.\n",
            "\n",
            "AORTIC VALVE: Aortic valve not well seen. No AS. No AR.\n",
            "\n",
            "MITRAL VALVE: Mildly thickened mitral valve leaflets. No MVP. Mild mitral\n",
            "annular calcification. Mild thickening of mitral valve chordae. No MS. Trivial\n",
            "MR. Normal LV inflow pattern for age.\n",
            "\n",
            "TRICUSPID VALVE: Normal tricuspid valve leaflets with trivial TR.\n",
            "\n",
            "PERICARDIUM: Trivial/physiologic pericardial effusion.\n",
            "\n",
            "GENERAL COMMENTS: Suboptimal image quality - poor echo windows. Suboptimal\n",
            "image quality as the patient was difficult to position.\n",
            "\n",
            "Conclusions:\n",
            "The left atrium is moderately dilated. There is mild symmetric left\n",
            "ventricular hypertrophy. The left ventricular cavity is moderately dilated.\n",
            "Overall left ventricular systolic function is severely depressed (ejection\n",
            "fraction 20-30 percent). There is no ventricular septal defect. Tissue\n",
            "synchronization imaging demonstrates significant left ventricular dyssynchrony\n",
            "with the lateral wall contracting 90 ms later than the septum. The aortic root\n",
            "is moderately dilated athe sinus level. The aortic valve is not well seen.\n",
            "There is no aortic valve stenosis. No aortic regurgitation is seen. The mitral\n",
            "valve leaflets are mildly thickened. There is no mitral valve prolapse.\n",
            "Trivial mitral regurgitation is seen. There is a trivial/physiologic\n",
            "pericardial effusion.\n",
            "\n",
            "Compared with the findings of the prior study (images reviewed) of 17 Augusr\n",
            "[**2119**], no major change is evident.\n",
            "\n",
            "\n",
            "\n"
          ],
          "name": "stdout"
        }
      ]
    },
    {
      "metadata": {
        "id": "HRd_CVNIWFk_",
        "colab_type": "text"
      },
      "cell_type": "markdown",
      "source": [
        "We are going to extract the heart rate from this note using regular expressions a powerful tool that allows us to do simple text analytics.\n",
        "Christina to add regex101 example here from her [notebook](https://github.com/christinium/JapanRegEx/blob/master/1.1%20-%20RegEx%20-%20Regular%20Expressions.ipynb)"
      ]
    },
    {
      "metadata": {
        "id": "ZfuBa5zmWxyq",
        "colab_type": "text"
      },
      "cell_type": "markdown",
      "source": [
        "To use regular expressions in python we import the regular library (typically this is done at the top of the file)."
      ]
    },
    {
      "metadata": {
        "id": "BD4XxiTJKLjt",
        "colab_type": "code",
        "colab": {}
      },
      "cell_type": "code",
      "source": [
        "import re"
      ],
      "execution_count": 0,
      "outputs": []
    },
    {
      "metadata": {
        "id": "6JPvo38lW6br",
        "colab_type": "text"
      },
      "cell_type": "markdown",
      "source": [
        "Let us see how we can extract the line containing heart rate from the report.  \n",
        "*Remember, the variable \"report\" was established in the code block above.  If you want to look at a different report - you can change the row number and rerun that block and then this block.*"
      ]
    },
    {
      "metadata": {
        "id": "b6_7iDmqLvoq",
        "colab_type": "code",
        "colab": {
          "base_uri": "https://localhost:8080/",
          "height": 34
        },
        "outputId": "14a38cb2-df13-4734-eed6-9813285ea6ba"
      },
      "cell_type": "code",
      "source": [
        "regular_expression_query = r'HR.*'\n",
        "hit = re.search(regular_expression_query,report) \n",
        "if hit:\n",
        "  print(hit.group())\n",
        "else:\n",
        "  print('No hit for the regular expression')"
      ],
      "execution_count": 7,
      "outputs": [
        {
          "output_type": "stream",
          "text": [
            "HR (bpm): 90\n"
          ],
          "name": "stdout"
        }
      ]
    },
    {
      "metadata": {
        "id": "97-MalZMXGpw",
        "colab_type": "text"
      },
      "cell_type": "markdown",
      "source": [
        "This is great. But we want to extract the value (85) from this line. Let us see how we can extract two digit numbers from the report"
      ]
    },
    {
      "metadata": {
        "id": "zklIpC25RtMb",
        "colab_type": "code",
        "colab": {
          "base_uri": "https://localhost:8080/",
          "height": 34
        },
        "outputId": "5a15ceb3-c8b5-45a5-a8aa-6eabdbb584a4"
      },
      "cell_type": "code",
      "source": [
        "regular_expression_query = r'\\d\\d'\n",
        "hit = re.search(regular_expression_query,report)\n",
        "if hit:\n",
        "  print(hit.group())\n",
        "else:\n",
        "  print('No hit for the regular expression')"
      ],
      "execution_count": 8,
      "outputs": [
        {
          "output_type": "stream",
          "text": [
            "75\n"
          ],
          "name": "stdout"
        }
      ]
    },
    {
      "metadata": {
        "id": "NAwzEPaJXd4t",
        "colab_type": "text"
      },
      "cell_type": "markdown",
      "source": [
        "Regular expressions are **greedy**. This means they match the first occurrence in the input text. Therefore, we see that we get the height using our current regular expression. Let us modify the regular expression so that we get the first two digit number following the occurence of **HR** in the report."
      ]
    },
    {
      "metadata": {
        "id": "sqSU0tvGSPdO",
        "colab_type": "code",
        "colab": {
          "base_uri": "https://localhost:8080/",
          "height": 68
        },
        "outputId": "915452f0-5c2d-4ea1-b595-957bf772fcd3"
      },
      "cell_type": "code",
      "source": [
        "regular_expression_query = r'(HR).*(\\d\\d)'\n",
        "hit = re.search(regular_expression_query,report)\n",
        "if hit:\n",
        "  print(hit.group(0))\n",
        "  print(hit.group(1))\n",
        "  print(hit.group(2))\n",
        "else:\n",
        "  print('No hit for the regular expression')"
      ],
      "execution_count": 9,
      "outputs": [
        {
          "output_type": "stream",
          "text": [
            "HR (bpm): 90\n",
            "HR\n",
            "90\n"
          ],
          "name": "stdout"
        }
      ]
    },
    {
      "metadata": {
        "id": "J5LUkH_MYL17",
        "colab_type": "text"
      },
      "cell_type": "markdown",
      "source": [
        "Great! This is exactly what we wanted. Now let us try to run our regular expression on each of the first ten reports and print the result."
      ]
    },
    {
      "metadata": {
        "id": "AwfEpn5VTBX8",
        "colab_type": "code",
        "colab": {
          "base_uri": "https://localhost:8080/",
          "height": 187
        },
        "outputId": "f28a4c02-fcaf-4f69-c651-d8df9658c987"
      },
      "cell_type": "code",
      "source": [
        "#This runs a for loop - which means for the first 10 rows in our first_ten_echo_reports, we will run our regular expression.  \n",
        "#We wrote the number 10 in the loop because we know there are 10 rows.\n",
        "for i in range(10):\n",
        "  report = first_ten_echo_reports[\"TEXT\"][i]\n",
        "  regular_expression_query = r'(HR).*(\\d\\d)'\n",
        "  hit = re.search(regular_expression_query,report)\n",
        "  if hit:    \n",
        "    print('{} :: {}'.format(i,hit.group(2)))\n",
        "  else:\n",
        "    print('{} :: No hit for the regular expression')\n",
        "  "
      ],
      "execution_count": 10,
      "outputs": [
        {
          "output_type": "stream",
          "text": [
            "0 :: 90\n",
            "1 :: 58\n",
            "2 :: 82\n",
            "3 :: 65\n",
            "4 :: 20\n",
            "5 :: 10\n",
            "6 :: 89\n",
            "{} :: No hit for the regular expression\n",
            "8 :: 50\n",
            "9 :: 98\n"
          ],
          "name": "stdout"
        }
      ]
    },
    {
      "metadata": {
        "id": "g8twKiJbYfNN",
        "colab_type": "text"
      },
      "cell_type": "markdown",
      "source": [
        "We do not get any hits for reports 2, and 6. Let us check report 2 why this is the case"
      ]
    },
    {
      "metadata": {
        "id": "FEibHL4WTwma",
        "colab_type": "code",
        "colab": {
          "base_uri": "https://localhost:8080/",
          "height": 986
        },
        "outputId": "71c9aac4-2168-4628-fa84-af11f56ec06f"
      },
      "cell_type": "code",
      "source": [
        "print(first_ten_echo_reports[\"TEXT\"][7])"
      ],
      "execution_count": 12,
      "outputs": [
        {
          "output_type": "stream",
          "text": [
            "PATIENT/TEST INFORMATION:\n",
            "Indication: Left ventricular function.\n",
            "Height: (in) 71\n",
            "Weight (lb): 180\n",
            "BSA (m2): 2.02 m2\n",
            "BP (mm Hg): 132/82\n",
            "Status: Inpatient\n",
            "Date/Time: [**2179-7-23**] at 10:38\n",
            "Test: Portable TTE(Complete)\n",
            "Doppler: Complete pulse and color flow\n",
            "Contrast: None\n",
            "Technical Quality: Adequate\n",
            "\n",
            "\n",
            "INTERPRETATION:\n",
            "\n",
            "Findings:\n",
            "\n",
            "LEFT ATRIUM: The left atrium is normal in size.\n",
            "\n",
            "RIGHT ATRIUM/INTERATRIAL SEPTUM: The right atrium is normal in size.\n",
            "\n",
            "LEFT VENTRICLE: There is mild symmetric left ventricular hypertrophy. The left\n",
            "ventricular cavity size is normal. Overall left ventricular systolic function\n",
            "is low normal (LVEF 50-55%).\n",
            "\n",
            "LV WALL MOTION: The following resting regional left ventricular wall motion\n",
            "abnormalities are seen: basal inferior - hypokinetic; mid inferior -\n",
            "hypokinetic;\n",
            "\n",
            "RIGHT VENTRICLE: Right ventricular chamber size and free wall motion are\n",
            "normal.\n",
            "\n",
            "AORTA: The aortic root is normal in diameter. The ascending aorta is normal in\n",
            "diameter.\n",
            "\n",
            "MITRAL VALVE: The mitral valve appears structurally normal with trivial mitral\n",
            "regurgitation.\n",
            "\n",
            "TRICUSPID VALVE: The tricuspid valve appears structurally normal with trivial\n",
            "tricuspid regurgitation. No tricuspid regurgitation is seen. There is\n",
            "borderline pulmonary artery systolic hypertension.\n",
            "\n",
            "PERICARDIUM: There is no pericardial effusion.\n",
            "\n",
            "Conclusions:\n",
            "The left atrium is normal in size. There is mild symmetric left ventricular\n",
            "hypertrophy. The left ventricular cavity size is normal. Overall left\n",
            "ventricular systolic function is low normal (LVEF 50-55%). Resting regional\n",
            "wall motion abnormalities include mid and basal inferior hypokinesis. Right\n",
            "ventricular chamber size and free wall motion are normal. The mitral valve\n",
            "appears structurally normal with trivial mitral regurgitation. There is\n",
            "borderline pulmonary artery systolic hypertension. There is no pericardial\n",
            "effusion.\n",
            "\n",
            "\n",
            "\n"
          ],
          "name": "stdout"
        }
      ]
    },
    {
      "metadata": {
        "id": "TFgb6Zfwhz9I",
        "colab_type": "text"
      },
      "cell_type": "markdown",
      "source": [
        "**Exercise 2:** The pulmonary therapists make a note for patients who are on mechanical ventilation.  We will analyze these notes.<br>\n",
        "a) Save the first 10 respiratory notes where the \"description\" column is \"Respiratory Care Shift Note\" into a variable called \"first_ten_resp_reports\" and then print the results. <br>\n",
        "b) Save the first respiratory note as variable \"resp_report\".<br>\n",
        "c) Print out the line that contains right upper lobe (RUL) lung sounds. Then do the same for RLL (right lower lobe), LUL, LLL."
      ]
    },
    {
      "metadata": {
        "id": "vDQWKND7hvV6",
        "colab_type": "code",
        "colab": {}
      },
      "cell_type": "code",
      "source": [
        "#Use this box to get the first 10 respiratory reports\n",
        "#The category is 'Respiratory ' (note the space after respiratory)\n"
      ],
      "execution_count": 0,
      "outputs": []
    },
    {
      "metadata": {
        "id": "9dA-auxEkzst",
        "colab_type": "code",
        "colab": {}
      },
      "cell_type": "code",
      "source": [
        "##Use this box to print out the first report"
      ],
      "execution_count": 0,
      "outputs": []
    },
    {
      "metadata": {
        "id": "B64FV3XirixA",
        "colab_type": "code",
        "colab": {}
      },
      "cell_type": "code",
      "source": [
        "#Printing out lines with RUL\n",
        "\n",
        "  "
      ],
      "execution_count": 0,
      "outputs": []
    },
    {
      "metadata": {
        "id": "hVBgGkl3jlkr",
        "colab_type": "text"
      },
      "cell_type": "markdown",
      "source": [
        "SELECT distinct category\n",
        "FROM `physionet-data.mimiciii_notes.noteevents`\n"
      ]
    },
    {
      "metadata": {
        "id": "gPheQMFgY-fH",
        "colab_type": "text"
      },
      "cell_type": "markdown",
      "source": [
        "###Answers to Exercises:\n",
        "\n"
      ]
    },
    {
      "metadata": {
        "id": "A37jvcd4YFAS",
        "colab_type": "text"
      },
      "cell_type": "markdown",
      "source": [
        "**Exercise 1: Can you modify the notebook to print the height of the patient mentioned in the first ten echo reports?**<br>\n",
        "a) How do you write an expression to just pull out the betablockers, a type of medication that can decrease the heart rate and blood pressure (they end in lol)<br>\n",
        "```\n",
        "[aA-zZ].*lol\n",
        "```\n",
        "b) You want to help someone figure out drugs that need to be dosed twice daily (or BID) for dosing purposes. How do you print out only lines that or twice a day (BID)?  \n",
        "```\n",
        ".*[BID]\n",
        "```\n",
        "c) How do you print lines that are more than once a day (including both BID and TID, which is three times daily)?\n",
        "```\n",
        ".*BID|.*TID\n",
        "```\n"
      ]
    },
    {
      "metadata": {
        "id": "VMjz2jDqtFGD",
        "colab_type": "text"
      },
      "cell_type": "markdown",
      "source": [
        "**Exercise 2:** The pulmonary therapists make a note for patients who are on mechanical ventilation.  We will analyze these notes.<br>\n",
        "a) Save the first 10 respiratory notes where the \"description\" column is \"Respiratory Care Shift Note\" into a variable called \"first_ten_resp_reports\" and then print the results. <br>\n",
        "```\n",
        "#Use this box to get the first 10 respiratory reports\n",
        "#The category is 'Respiratory ' (note the space after respiratory)\n",
        "first_ten_resp_reports = run_query('''\n",
        "SELECT row_id, subject_id, hadm_id, category, description, TEXT\n",
        "FROM `physionet-data.mimiciii_notes.noteevents`\n",
        "WHERE category = \"Respiratory \" AND description = 'Respiratory Care Shift Note'\n",
        "limit 10\n",
        "''')\n",
        "\n",
        "first_ten_resp_reports.head(10)\n",
        "```\n",
        "\n",
        "b) Save the first respiratory note as variable \"resp_report\".<br>\n",
        "```\n",
        "resp_report = first_ten_resp_reports[\"TEXT\"][0] \n",
        "print(resp_report)\n",
        "```\n",
        "c) Print out the line that contains right upper lobe (RUL) lung sounds. Then do the same for RLL (right lower lobe), LUL, LLL.\n",
        "```\n",
        "regular_expression_query = r'RUL.*'\n",
        "hit = re.search(regular_expression_query,resp_report) \n",
        "if hit:\n",
        "  print(hit.group())\n",
        "else:\n",
        "  print('No hit for the regular expression')\n",
        "  \n",
        "for i in range(len(first_ten_resp_reports)):\n",
        "  if hit:\n",
        "    print(hit.group())\n",
        "  else:\n",
        "    print('No hit for the regular expression')\n",
        "\n",
        "## Replase RUL with RLL, LUL, LLL to look at the other lobes\n",
        "```"
      ]
    }
  ]
}