{
  "nbformat": 4,
  "nbformat_minor": 0,
  "metadata": {
    "colab": {
      "name": "MIT Tutorial - Part D - Obese.ipynb",
      "version": "0.3.2",
      "provenance": []
    },
    "kernelspec": {
      "display_name": "Python 3",
      "language": "python",
      "name": "python3"
    }
  },
  "cells": [
    {
      "metadata": {
        "id": "TsRhtG_v8x6v",
        "colab_type": "text"
      },
      "cell_type": "markdown",
      "source": [
        "# Part D - Identifying Obese\n"
      ]
    },
    {
      "metadata": {
        "id": "WrIBRxjB8x62",
        "colab_type": "code",
        "colab": {}
      },
      "cell_type": "code",
      "source": [
        "# First off - load all the silly python libraries we are going to need\n",
        "import pandas as pd\n",
        "import numpy as np\n",
        "import os\n",
        "\n",
        "from google.colab import auth\n",
        "from google.cloud import bigquery\n",
        "from google.colab import files"
      ],
      "execution_count": 0,
      "outputs": []
    },
    {
      "metadata": {
        "id": "VjUx4sRP9MOm",
        "colab_type": "code",
        "colab": {}
      },
      "cell_type": "code",
      "source": [
        "auth.authenticate_user() #This will allow you to authenticate access to BigQuery"
      ],
      "execution_count": 0,
      "outputs": []
    },
    {
      "metadata": {
        "id": "8q5UwFs89SSX",
        "colab_type": "code",
        "colab": {}
      },
      "cell_type": "code",
      "source": [
        "#This is a method that executes a desired SQL query on the database\n",
        "project_id='hst-953-2018'\n",
        "os.environ[\"GOOGLE_CLOUD_PROJECT\"]=project_id\n",
        "# Read data from BigQuery into pandas dataframes.\n",
        "def run_query(query):\n",
        "  return pd.io.gbq.read_gbq(query, project_id=project_id, verbose=False, configuration={'query':{'useLegacySql': False}})"
      ],
      "execution_count": 0,
      "outputs": []
    },
    {
      "metadata": {
        "id": "aKTDxcNM8x7B",
        "colab_type": "code",
        "colab": {
          "base_uri": "https://localhost:8080/",
          "height": 177
        },
        "outputId": "e0ac03cf-b3bd-4815-8586-4ba570866a84"
      },
      "cell_type": "code",
      "source": [
        "# Now load the data. In general you'd load the whole set of notes but that would take\n",
        "# several minutes so for this example we're just going to use a subset\n",
        "#notes = pd.read_csv('D.csv')\n",
        "notes = run_query('''\n",
        "    SELECT *\n",
        "    FROM `physionet-data.mimiciii_notes.noteevents`\n",
        "    WHERE CATEGORY = 'Discharge summary'\n",
        "    ''')\n"
      ],
      "execution_count": 3,
      "outputs": [
        {
          "output_type": "stream",
          "text": [
            "Please visit this URL to authorize this application: https://accounts.google.com/o/oauth2/auth?response_type=code&client_id=495642085510-k0tmvj2m941jhre2nbqka17vqpjfddtd.apps.googleusercontent.com&redirect_uri=urn%3Aietf%3Awg%3Aoauth%3A2.0%3Aoob&scope=https%3A%2F%2Fwww.googleapis.com%2Fauth%2Fbigquery&state=Q8SyKe2By0XPhn16vV3avizYNs9hNF&prompt=consent&access_type=offline\n",
            "Enter the authorization code: 4/dwB5Fk17lT37MvxlGfyhzN7O1XIfrSRv2XlQNK2fRdUjQ93oxF47tjs\n"
          ],
          "name": "stdout"
        }
      ]
    },
    {
      "metadata": {
        "id": "jXFarBSbA7cU",
        "colab_type": "code",
        "colab": {
          "base_uri": "https://localhost:8080/",
          "height": 204
        },
        "outputId": "80d7d388-ab7f-415a-ab51-5efcbb67749e"
      },
      "cell_type": "code",
      "source": [
        "notes.head()"
      ],
      "execution_count": 4,
      "outputs": [
        {
          "output_type": "execute_result",
          "data": {
            "text/html": [
              "<div>\n",
              "<style scoped>\n",
              "    .dataframe tbody tr th:only-of-type {\n",
              "        vertical-align: middle;\n",
              "    }\n",
              "\n",
              "    .dataframe tbody tr th {\n",
              "        vertical-align: top;\n",
              "    }\n",
              "\n",
              "    .dataframe thead th {\n",
              "        text-align: right;\n",
              "    }\n",
              "</style>\n",
              "<table border=\"1\" class=\"dataframe\">\n",
              "  <thead>\n",
              "    <tr style=\"text-align: right;\">\n",
              "      <th></th>\n",
              "      <th>ROW_ID</th>\n",
              "      <th>SUBJECT_ID</th>\n",
              "      <th>HADM_ID</th>\n",
              "      <th>CHARTDATE</th>\n",
              "      <th>CHARTTIME</th>\n",
              "      <th>STORETIME</th>\n",
              "      <th>CATEGORY</th>\n",
              "      <th>DESCRIPTION</th>\n",
              "      <th>CGID</th>\n",
              "      <th>ISERROR</th>\n",
              "      <th>TEXT</th>\n",
              "    </tr>\n",
              "  </thead>\n",
              "  <tbody>\n",
              "    <tr>\n",
              "      <th>0</th>\n",
              "      <td>811</td>\n",
              "      <td>88360</td>\n",
              "      <td>130127</td>\n",
              "      <td>2149-11-20</td>\n",
              "      <td>None</td>\n",
              "      <td>None</td>\n",
              "      <td>Discharge summary</td>\n",
              "      <td>Report</td>\n",
              "      <td>None</td>\n",
              "      <td>None</td>\n",
              "      <td>Admission Date:  [**2149-11-16**]             ...</td>\n",
              "    </tr>\n",
              "    <tr>\n",
              "      <th>1</th>\n",
              "      <td>1495</td>\n",
              "      <td>32013</td>\n",
              "      <td>185178</td>\n",
              "      <td>2188-07-14</td>\n",
              "      <td>None</td>\n",
              "      <td>None</td>\n",
              "      <td>Discharge summary</td>\n",
              "      <td>Report</td>\n",
              "      <td>None</td>\n",
              "      <td>None</td>\n",
              "      <td>Admission Date:  [**2188-7-2**]              D...</td>\n",
              "    </tr>\n",
              "    <tr>\n",
              "      <th>2</th>\n",
              "      <td>2714</td>\n",
              "      <td>31260</td>\n",
              "      <td>191494</td>\n",
              "      <td>2107-08-11</td>\n",
              "      <td>None</td>\n",
              "      <td>None</td>\n",
              "      <td>Discharge summary</td>\n",
              "      <td>Report</td>\n",
              "      <td>None</td>\n",
              "      <td>None</td>\n",
              "      <td>Admission Date:  [**2107-8-5**]              D...</td>\n",
              "    </tr>\n",
              "    <tr>\n",
              "      <th>3</th>\n",
              "      <td>2615</td>\n",
              "      <td>58938</td>\n",
              "      <td>178153</td>\n",
              "      <td>2179-02-06</td>\n",
              "      <td>None</td>\n",
              "      <td>None</td>\n",
              "      <td>Discharge summary</td>\n",
              "      <td>Report</td>\n",
              "      <td>None</td>\n",
              "      <td>None</td>\n",
              "      <td>Admission Date:  [**2179-1-31**]              ...</td>\n",
              "    </tr>\n",
              "    <tr>\n",
              "      <th>4</th>\n",
              "      <td>3455</td>\n",
              "      <td>17552</td>\n",
              "      <td>175683</td>\n",
              "      <td>2150-04-06</td>\n",
              "      <td>None</td>\n",
              "      <td>None</td>\n",
              "      <td>Discharge summary</td>\n",
              "      <td>Report</td>\n",
              "      <td>None</td>\n",
              "      <td>None</td>\n",
              "      <td>Admission Date:  [**2150-4-3**]     Discharge ...</td>\n",
              "    </tr>\n",
              "  </tbody>\n",
              "</table>\n",
              "</div>"
            ],
            "text/plain": [
              "   ROW_ID  SUBJECT_ID  HADM_ID   CHARTDATE CHARTTIME STORETIME  \\\n",
              "0     811       88360   130127  2149-11-20      None      None   \n",
              "1    1495       32013   185178  2188-07-14      None      None   \n",
              "2    2714       31260   191494  2107-08-11      None      None   \n",
              "3    2615       58938   178153  2179-02-06      None      None   \n",
              "4    3455       17552   175683  2150-04-06      None      None   \n",
              "\n",
              "            CATEGORY DESCRIPTION  CGID ISERROR  \\\n",
              "0  Discharge summary      Report  None    None   \n",
              "1  Discharge summary      Report  None    None   \n",
              "2  Discharge summary      Report  None    None   \n",
              "3  Discharge summary      Report  None    None   \n",
              "4  Discharge summary      Report  None    None   \n",
              "\n",
              "                                                TEXT  \n",
              "0  Admission Date:  [**2149-11-16**]             ...  \n",
              "1  Admission Date:  [**2188-7-2**]              D...  \n",
              "2  Admission Date:  [**2107-8-5**]              D...  \n",
              "3  Admission Date:  [**2179-1-31**]              ...  \n",
              "4  Admission Date:  [**2150-4-3**]     Discharge ...  "
            ]
          },
          "metadata": {
            "tags": []
          },
          "execution_count": 4
        }
      ]
    },
    {
      "metadata": {
        "id": "KbrGptE78x7P",
        "colab_type": "code",
        "colab": {}
      },
      "cell_type": "code",
      "source": [
        "# Load the gold standard\n",
        "#gold = pd.read_csv('obese-gold.csv')\n",
        "gold = run_query('''\n",
        "    SELECT *  \n",
        "    FROM `hst-953-2018.NLP_workshop.obese_gold` \n",
        "    ''')\n"
      ],
      "execution_count": 0,
      "outputs": []
    },
    {
      "metadata": {
        "id": "CNk3gJDXPejr",
        "colab_type": "code",
        "colab": {
          "base_uri": "https://localhost:8080/",
          "height": 74
        },
        "outputId": "913a116b-4a4b-48c5-d142-4155d1741a42"
      },
      "cell_type": "code",
      "source": [
        "notes['TEXT'][1]"
      ],
      "execution_count": 11,
      "outputs": [
        {
          "output_type": "execute_result",
          "data": {
            "text/plain": [
              "'Admission Date:  [**2188-7-2**]              Discharge Date:   [**2188-7-14**]\\n\\n\\nService: MEDICINE\\n\\nAllergies:\\nPatient recorded as having No Known Allergies to Drugs\\n\\nAttending:[**First Name3 (LF) 800**]\\nChief Complaint:\\nDiarrhea, hypotension\\n\\nMajor Surgical or Invasive Procedure:\\nnone\\n\\nHistory of Present Illness:\\n87 male with history of untreated colon cancer, PAF (not on\\nanticoagulation), recent hospitalization for hypoxia, weakness\\nand a UTI who presents with ongoing weakness and diarrhea. He\\nwas noted to be weak at home, and a friend urged him to activate\\nhis lifeline. He states that he has been having lots of\\ndiarrhea, roughly every two hours, since his last discharge. He\\nhas not been having any fevers, chills, abdominal pain, nausea,\\nvomiting, or bleeding.\\n.\\nHis last hospitalization concluded that his weakness was due to\\ndeconditioning, and his shortness of breath was due to fluid\\noverload. He was treated with flagyl for two days last\\nadmission, and, and was discharged on Augmentin to complete a\\ncourse for a UTI. He had a positive c.dif toxin noted in the\\ncomputer last admission, but was not discharged on any\\ntreatment.\\n\\n\\nPast Medical History:\\nColonoscopy [**2184-3-25**]:\\n>Polyp in the transverse colon (polypectomy) - adenoma\\n>Polyps in the sigmoid colon (polypectomy)- Colonic mucosa with\\nfocal hyperplastic features\\n>Polypoid, ulcerated mass in the hepatic flexure (biopsy) -\\nSuperficial fragments of colonic mucosa with ulceration, marked\\nacute inflammation, and highly atypical glands, suspicious for\\ncarcinoma.\\n\\n\\nPast history:\\n# Colon mass during colonoscopy for guaiac positive stools in\\n[**2184**]. Pathology was worrisome for carcinoma. Although the\\npatient was offered resection by Dr. [**Last Name (STitle) **], he declined\\n# hematuria/BPH - traumatic foley insertion and manipulation\\n[**3-16**] lead to urosepsis and subsequent urinary retention\\n# sick sinus syndrome and bifascicular block s/p pacemaker [**2184**]\\n\\n# PAF - on amiodarone, not on coumadin d/t concern for\\nmalignancy\\n# H/O SVT\\n# Atrial flutter status post ablation [**2-/2186**] - not on\\nanticoagulation d/t concern for malignancy\\n# Anemia - on arenesp and iron\\n# Echo [**2186**]: mild-to-moderate mitral regurgitation, RA and LA\\n# BPH s/p TURMP [**2187**]\\n# b/l edema with skin changes\\n# hard of hearing\\n# hx of guiaic positive stools/GI bleeding\\n# osteoarthritis\\n# osteoporosis\\n# subclinical hypothyroid state as per record\\n# [**Year (4 digits) **] insufficiency\\n# right pleural effusion - Found on CT on [**2188-2-25**] for increasing\\nDOE. [**3-6**] and [**3-18**] thoracentesis c/w transudative. Workup during\\nlast admission revealed RV diastolic dysfunction. Concern was\\nfor PE as etiology, but unable to get CTA d/w ARF and V/Q not\\nhelpful. Not anticoagulated due to h/o GIB, pleurodesis not an\\noption d/t transudative.\\n# Tibial talar dislocation with comminuted distal tib fib\\nfracture status post surgery [**2181**]\\n# hx syncope in [**2181**], unclear etiology\\n\\n\\nSocial History:\\nliving at lone at home with VNA, Former smoker with 35-pk-yrs,\\nquit 50-55 yrs ago. Social ETOH.\\n\\n\\nFamily History:\\nbrother had [**Name2 (NI) 500**] marrow stem cell transplant at age 82\\nSister died from heart attack. Also had an unknown cancer.\\nMother died from an unknown cancer.\\nNeice has unknown cancer.\\n\\n\\nPhysical Exam:\\nVs- 99 88/41 70 20 90% 5L\\nGen- Tired appearing elderly male, sleeping at 30 degrees HOB\\nelevation\\nHeent- MM dry, anicteric, poor dentition, no oral lesions\\nNeck- supple, JVP 8cm\\nCor- regular, soft II/VI HSM along sternal border\\nChest- Expiratory wheezes, bibasilar rales\\nAbd- soft, ttp RUQ and RLQ, no guarding or rebound tenderness.\\nPositive bowel sounds.\\nExt- 3+ edema right leg, 2+ edema left leg. No clubbing or\\ncyanosis.\\nNeuro- AAO x 3. No focal findings.\\nSkin- Venous stasis changes L>R lower extremity.\\nMsk- moves all extremities. no obvious findings.\\n\\n\\nPertinent Results:\\nADMISSION LABS\\n\\n[**2188-7-2**] 02:52AM BLOOD WBC-25.0*# RBC-3.81* Hgb-10.4* Hct-32.8*\\nMCV-86 MCH-27.2 MCHC-31.7 RDW-16.3* Plt Ct-251\\n[**2188-7-2**] 02:52AM BLOOD Neuts-72* Bands-23* Lymphs-2* Monos-2\\nEos-0 Baso-0 Atyps-1* Metas-0 Myelos-0\\n[**2188-7-2**] 02:52AM BLOOD PT-14.9* PTT-33.2 INR(PT)-1.3*\\n[**2188-7-2**] 02:52AM BLOOD Glucose-106* UreaN-33* Creat-1.2 Na-143\\nK-3.5 Cl-109* HCO3-25 AnGap-13\\n[**2188-7-2**] 02:52AM BLOOD ALT-34 AST-37 LD(LDH)-268* AlkPhos-189*\\nTotBili-0.5\\n[**2188-7-2**] 02:52AM BLOOD Calcium-8.4 Phos-2.9 Mg-2.0\\n[**2188-7-2**] 03:04AM BLOOD Lactate-1.3\\n\\nMICRO\\n\\n[**7-2**] blood cultres-NGTD\\n[**7-2**] urine cultres-NGTD\\n[**7-2**]-c.diff positive\\n\\nIMAGING\\n\\n[**7-2**]-liver u/s-Gallbladder distension likely related to\\npatient\\'s having been NPO for 48 hours, without evidence of\\nacute cholecystitis. These findings were posted to the ED\\ndashboard at 10:30 a.m. on [**2188-7-2**]\\n.\\n[**7-2**]-CT abdomen-1. New pancolitis with rectal involvement, with\\n\"accordion\"-like accentuated haustration, a marked change since\\n[**2188-3-5**], is highly suggestive of C. difficile colitis; given\\nthe history of previous episode, this likely represents the\\nchronic \"recurrent\" form.\\n2. Infectious pancolitis (due to Campylobacter, CMV, parasitic\\nor staphylococcal infection) is a less likely consideration.\\n3. No evidence of bowel obstruction.\\n4. Congestive heart failure, with multi-chamber cardiac\\nenlargement and bilateral pleural effusions, right greater than\\nleft.\\n.\\n\\n[**7-2**]-CXR-Portable upright chest radiograph is reviewed and\\ncompared to [**2188-6-22**]. Mildly enlarged cardiac silhouette is\\nunchanged, with left pacemaker and two intracardiac leads. Right\\npleural effusion is little changed, but there is still right\\nbasilar consolidative opacity. Left basilar atelectasis is\\nunchanged. There is no left pleural effusion. There is no\\npneumothorax.\\nIMPRESSION: Little change in CHF, with slightly decreased right\\npleural fluid. Unchanged right basilar atelectasis\\n\\n[**7-5**]-CXR-Moderate-sized bilateral pleural effusions\\n\\n[**7-9**]-CT abdomen/CT chest-1. Multisegmental bilateral pulmonary\\nemboli.\\n2. Atelectasis and aspiration/pneumonia of the lung bases\\nbilaterally, with aspirated barium seen within the left lung\\nbase.\\n3. Fluid overload, with anasarca and moderate bilateral pleural\\neffusions.\\n4. Colonic wall thickening, also involving the rectum. Although\\nsome of the wall thickening may be attributable to volume\\noverload, these findings are again compatible with a pancolitis\\nsuch as pseudomembranous colitis, improved from [**2188-7-2**].\\n5. Area of stricturing and narrowing of the hepatic flexure,\\ncompatible with known colonic malignancy.\\n6. Perirectal abscess, measuring approximately 2.7 cm.\\n\\n\\nBrief Hospital Course:\\n87 male with history of colon cancer (untreated), atrial\\nfibrillation, recent UTI, and positive C.dif toxin assay who\\npresents with diarrhea, hypotension, and dehydration.\\n.\\n# Hypotension: On admission he was hypotensive to SBP 80\\'s and\\nthus admitted to the MICU, this was likely in the setting of\\nprofound dehydration from GI losses and poor PO intake. He was\\nfluid responsive thus far (a total of 5L of isotonic fluids).\\nAlternate etiologies, such as distributive or cardiogenic shock\\nat this point were considered less likely.  He received a total\\nof 4-5L and his BP improved such that he was transferred to the\\nmedical floor.  His BP remained normal afterwards. Metoprolol\\nand terazosin were held throughout admission which patient\\ntolerated well.\\n.\\n# Diarrhea/C.dificile colitis. He has had several positive C\\nDiff toxin assays, and had one course of treatment after an\\n[**Month (only) 547**] admission. It is not clear that he was treated during his\\npast admission.  He was C diff toxin positive again and he was\\ntreated with IV flagyl and PO vancomycin as his diarrhea was\\nsevere and there was concern about the vancomycin working in the\\nsetting of a rapid transit time.  Initially he did not have\\nabdominal pain, but began having lower abdominal pain and some\\nrebound tenderness on exam.  A CT abdomen showed improvement in\\nthe colitis and a new perirectal abscess but no other\\nabnormalities.  At the time of discharge he was tolerating a\\nregular diet without difficulty and had improvement in his\\nabdominal pain and diarrhea.  Antibiotics were started on [**7-2**]\\nwith a plan to complete a 21 day course of flagyl and vanco as\\nan outpatient.\\n.\\n#Perirectal Abscess-Seen on CT, non-symptomatic but on exam he\\nhad tender fluctuance in the posterior rectum. Gen [**Doctor First Name **] was\\nconsulted and stated I&D at this time is not necessary as it\\ncould not be performed bedside, because of the position of the\\nabscess they may have to use a percutaneous approach which would\\nraise concern about creating a colon-skin fistual tract.  They\\nrecommended added cipro for gram negative coverage but given\\nconcern over exacerbating his c.diff which was already slow to\\nimprove, it was not added and conservatively management was\\npursued. He will be seen for follow-up by surgery as an\\noutpatient.\\n.\\n# Edema / CHF: He has bilateral pleural effusions, which have\\nrecently been tapped and found to be transudative. He is\\ncurrently intravascularly dry but total body overloaded. He has\\na normal LVEF, but has had recent issues with fluid\\noverload-likely [**2-23**] MR, TR.  He was diuresed with IV lasix 4-5L,\\nnow patient is lasix dose of 40mg daily.\\n.\\n# Hypoxia: Initially thought to be related to fluid overload /\\ncardiac cause.   However he was suspected to have PEs in the\\nsetting of untreated malignancy (colon cancer-he refused\\nsurgery), he was on 4L O2 NC.  Initially he was diuresed, and\\nhis oxygenation slowly improved.  He had a CTA with bilateral\\nsubsegmental PEs, nonobstructive and an IVC filter was placed on\\n[**7-10**] given inability to anticoagulate due to known colon\\nmalignancy.  His oxygenation has improved to 94% on room air\\nprior to discharge.\\n\\n# PE: Thought to be in setting of known malignancy. As above,\\nseen on recent CTA. Not anticoagulated due to colon malignancy,\\npermanent IVC filter placed.\\n.\\n# Sick Sinus: His pacer was interrogated by EP, and appears to\\nbe working well.\\nHe was continued on home amiodarone. As above, metoprolol was\\nheld. He will follow-up with PCP and cardiology to discuss\\nrestarting medication.\\n.\\n# [**Month/Year (2) 2793**] isufficiency: He appears to be at his baseline - but his\\nBUN was elevated on admission likely due to dehydration. [**Month/Year (2) 2793**]\\nfunction remained at baseline.\\n.\\n# Anemia: He had a recent transfusion - possibly due to\\nunderlying malignancy.\\nHct was monitored, there was no need for transfusion as he is\\nactually above recent baseline. Will continue iron supplements.\\n\\n.\\n\\n# Code status: Full, discussed with pateint.\\n# Communication: Daugher is HCP. [**Name (NI) 501**]\\n\\n\\n\\nMedications on Admission:\\n1. Amiodarone 200 mg daily\\n2. Finasteride 5 mg daily\\n3. Furosemide 40 mg daily\\n4. Metoprolol Succinate 25 mg SR daily\\n5. Terazosin 5 mg daily\\n6. Aspirin 81 mg daily\\n7. Hexavitamin daily\\n8. Ferrous Sulfate 325 mg daily\\n\\n\\nDischarge Medications:\\n1. Amiodarone 200 mg Tablet Sig: One (1) Tablet PO DAILY\\n(Daily).\\n2. Finasteride 5 mg Tablet Sig: One (1) Tablet PO DAILY (Daily).\\n\\n3. Furosemide 40 mg Tablet Sig: One (1) Tablet PO DAILY (Daily).\\n\\n4. Aspirin 81 mg Tablet, Delayed Release (E.C.) Sig: One (1)\\nTablet, Delayed Release (E.C.) PO DAILY (Daily).\\n5. Hexavitamin     Tablet Sig: One (1) Cap PO DAILY (Daily).\\n6. Iron (Ferrous Sulfate) 325 mg (65 mg Iron) Tablet Sig: One\\n(1) Tablet PO once a day.\\n7. Vancomycin 250 mg Capsule Sig: One (1) Capsule PO Q6H (every\\n6 hours) for 8 days.\\n8. Metronidazole in NaCl (Iso-os) 500 mg/100 mL Piggyback Sig:\\nFive Hundred (500) mg Intravenous Q8H (every 8 hours) for 8\\ndays.\\n9. Heparin (Porcine) 5,000 unit/mL Solution Sig: One (1) ml\\nInjection TID (3 times a day).\\n10. Acetaminophen 325 mg Tablet Sig: 1-2 Tablets PO Q6H (every 6\\nhours) as needed for fever or pain.\\n11. Miconazole Nitrate 2 % Powder Sig: One (1) Appl Topical QID\\n(4 times a day) as needed.\\n\\n\\nDischarge Disposition:\\nExtended Care\\n\\nFacility:\\n[**Hospital6 459**] for the Aged - MACU\\n\\nDischarge Diagnosis:\\nPrimary:\\nclostridium difficle diarrhea\\npulmonary emboli\\nperirectal abscess\\ncolon cancer untreated\\n[**Hospital6 **] insufficiency\\nsick sinus syndrome\\n\\nSecondary:\\nhematuria/BPH - traumatic foley insertion and manipulation\\n[**3-16**] lead to urosepsis and subsequent urinary retention\\nsick sinus syndrome and bifascicular block s/p pacemaker [**2184**]\\nPAF - on amiodarone, not on coumadin d/t concern for\\nmalignancy\\nH/O SVT\\nAtrial flutter status post ablation [**2-/2186**] - not on\\nanticoagulation d/t concern for malignancy\\nAnemia - was on arenesp and iron\\nBPH s/p TURMP [**2187**]\\nb/l edema with skin changes\\nhard of hearing\\nhx of guiaic positive stools/GI bleeding\\nosteoarthritis\\nosteoporosis\\nsubclinical hypothyroid state as per record\\nright pleural effusion - Found on CT on [**2188-2-25**] for increasing\\nDOE. [**3-6**] and [**3-18**] thoracentesis c/w transudative. Workup during\\n\\nlast admission revealed RV diastolic dysfunction. Concern was\\nfor PE as etiology, but unable to get CTA d/w ARF and V/Q not\\nhelpful. Not anticoagulated due to h/o GIB, pleurodesis not an\\noption d/t transudative.\\nTibial talar dislocation with comminuted distal tib fib\\nfracture status post surgery [**2181**]\\nPaget\\'s disease of pelvis\\n\\n\\nDischarge Condition:\\nstable, afebrile, good po intake, diarrhea improved.\\n\\n\\nDischarge Instructions:\\nYou were admitted with low blood pressure and were found to have\\nC.difficle diarrhea.  You were in the medical ICU for 2 days,\\nyour blood pressure improved after you received IV fluids and\\nantibiotics.  You were transferred to a medical floor where your\\ndiarrhea improved, you were found to have a perirectal abscess\\nwhich was not treated with medication due to your c.difficile\\ninfection. You should follow up with outpatient surgery for\\nfurther treatment.  Your oxygen level was low, you had a CT of\\nyour chest that showed pulmonary emboli (blood clots in your\\nlungs) and an IVC filter was placed.\\n.\\nPlease continue to take your medications as prescribed. You will\\nneed to continue on the antibiotics flagyl and vancomycin as\\nprescribed for your c.difficile infection. Please note your\\nlasix dose has been increased to 40mg daily. Please note your\\nmetoprolol and terazosin were stopped, please discuss restarting\\nthese with your PCP.\\n.\\nYou should follow up as outlined below.\\n.\\nYou should seek medical attention if you have worsening\\ndiarrhea, dizzyness, abdominal pain, chest pain ,shortness of\\nbreath or any other concerning symptoms.\\n\\nWeigh yourself every morning, [**Name8 (MD) 138**] MD if weight > 3 lbs.\\nAdhere to 2 gm sodium diet\\nFluid Restriction:2L\\n\\nFollowup Instructions:\\nplease call your PCP [**Last Name (NamePattern4) **]. [**First Name8 (NamePattern2) 324**] [**Last Name (NamePattern1) 311**] [**Telephone/Fax (1) 1713**] and make an\\nappointment within the next two weeks\\n\\nProvider: [**First Name4 (NamePattern1) 1575**] [**Last Name (NamePattern1) 1576**], MD Phone:[**Telephone/Fax (1) 1579**]\\nDate/Time:[**2188-7-23**] 1:30\\nProvider: [**Name Initial (NameIs) 703**] (H3) GENERAL 2 RADIOLOGY Phone:[**Telephone/Fax (1) 327**]\\nDate/Time:[**2188-8-25**] 1:30\\nProvider: [**Last Name (NamePattern4) **]. [**First Name (STitle) **] [**Doctor Last Name **] Phone:[**Telephone/Fax (1) 274**]\\nDate/Time:[**2188-8-28**] 11:00\\nProvider: [**Last Name (NamePattern4) **].[**First Name4 (NamePattern1) **] [**Last Name (NamePattern1) **] Phone: [**Telephone/Fax (1) 8792**] on [**2188-8-14**] at\\n8:30am\\nProvider: [**Last Name (NamePattern4) **].[**First Name8 (NamePattern2) **] [**Last Name (NamePattern1) 2232**] Phone: ([**Telephone/Fax (1) 8793**] on [**2188-7-23**] at\\n11:20am\\n\\n\\n                             [**First Name11 (Name Pattern1) **] [**Last Name (NamePattern4) 810**] MD, [**MD Number(3) 811**]\\n\\n'"
            ]
          },
          "metadata": {
            "tags": []
          },
          "execution_count": 11
        }
      ]
    },
    {
      "metadata": {
        "id": "VDFgJnmM8x7g",
        "colab_type": "code",
        "colab": {}
      },
      "cell_type": "code",
      "source": [
        "# Here is the list of terms we are going to consider \"good\"\n",
        "terms = ['obese','overweight','obesity','adipose']"
      ],
      "execution_count": 0,
      "outputs": []
    },
    {
      "metadata": {
        "id": "p80Fp2xO8x7n",
        "colab_type": "code",
        "colab": {
          "base_uri": "https://localhost:8080/",
          "height": 34
        },
        "outputId": "6c7d8d5a-5ca6-4668-d1cd-446a67343b49"
      },
      "cell_type": "code",
      "source": [
        "# Now scan through all of the notes. Do any of the terms appear? If so stash the note \n",
        "# id for future use\n",
        "\n",
        "matches = []\n",
        "\n",
        "for index, row in notes.iterrows():\n",
        "    if any(x in row['TEXT'] for x in terms):\n",
        "        matches.append(row['SUBJECT_ID'])\n",
        "\n",
        "print(\"Found \" + str(len(matches)) + \" matching notes.\")"
      ],
      "execution_count": 23,
      "outputs": [
        {
          "output_type": "stream",
          "text": [
            "Found 6301 matching notes.\n"
          ],
          "name": "stdout"
        }
      ]
    },
    {
      "metadata": {
        "id": "1qD-RMxd8x7x",
        "colab_type": "code",
        "colab": {}
      },
      "cell_type": "code",
      "source": [
        "# For the patients in those notes, set \"obese\" true (1) in a the results\n",
        "myscores = gold.copy()\n",
        "myscores['obese_1'] = 0 # This sets them all to unknown\n",
        "\n",
        "for subject_id in matches:\n",
        "    myscores.loc[myscores[\"subject_id\"] == subject_id,'obese_1'] = 1\n"
      ],
      "execution_count": 0,
      "outputs": []
    },
    {
      "metadata": {
        "id": "jluSXN7A8x76",
        "colab_type": "code",
        "colab": {
          "base_uri": "https://localhost:8080/",
          "height": 119
        },
        "outputId": "1fa5f4d3-2d1e-46e9-bee3-0b8145bf674a"
      },
      "cell_type": "code",
      "source": [
        "# Compute your score\n",
        "\n",
        "skipped = 0\n",
        "truepositive = 0\n",
        "falsepositive = 0\n",
        "truenegative = 0\n",
        "falsenegative = 0\n",
        "\n",
        "for index, row in myscores.iterrows():\n",
        "    if row['obese_1'] == 0:\n",
        "        skipped = skipped + 1\n",
        "    else:\n",
        "        if row['obese_1'] == 1 and gold.loc[index]['obese_1'] == 1:\n",
        "            truepositive = truepositive + 1\n",
        "        elif row['obese_1'] == -1 and gold.loc[index]['obese_1'] == -1:\n",
        "            truenegative = truenegative + 1\n",
        "        elif row['obese_1'] == 1 and gold.loc[index]['obese_1'] == -1:\n",
        "            falsepositive = falsepositive + 1\n",
        "        elif row['obese_1'] == -1 and gold.loc[index]['obese_1'] == 1:\n",
        "            falsenegative = falsenegative + 1\n",
        "\n",
        "print (\"Skipped:\\t\" + str(skipped))\n",
        "print (\"True Pos:\\t\" + str(truepositive))\n",
        "print (\"True Neg:\\t\" + str(truenegative))\n",
        "print (\"False Pos:\\t\" + str(falsepositive))\n",
        "print (\"False Neg:\\t\" + str(falsenegative))     \n",
        "print (\"SCORE:\\t\\t\" + str(truepositive + truenegative - falsepositive - falsenegative))"
      ],
      "execution_count": 25,
      "outputs": [
        {
          "output_type": "stream",
          "text": [
            "Skipped:\t76\n",
            "True Pos:\t21\n",
            "True Neg:\t0\n",
            "False Pos:\t3\n",
            "False Neg:\t0\n",
            "SCORE:\t\t18\n"
          ],
          "name": "stdout"
        }
      ]
    }
  ]
}